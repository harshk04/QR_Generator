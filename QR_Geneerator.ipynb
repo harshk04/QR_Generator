{
 "cells": [
  {
   "cell_type": "code",
   "execution_count": null,
   "id": "5ee8602b",
   "metadata": {},
   "outputs": [],
   "source": [
    "\n",
    "import qrcode\n",
    "import image\n",
    "qr=qrcode.QRCode(\n",
    "    version=12, #shows security level\n",
    "    box_size=10,\n",
    "    \n",
    "    border=10\n",
    ")\n",
    "data = input(\"Enter the Link: \")\n",
    "\n",
    "qr.add_data(data)\n",
    "qr.make (fit = True)\n",
    "img = qr.make_image (fill=\"black\", back_color = \"white\")\n",
    "img.save(\"download.png\")\n",
    "\n",
    "print(\"QR Image Saved Successfully !!\")"
   ]
  }
 ],
 "metadata": {
  "kernelspec": {
   "display_name": "Python 3 (ipykernel)",
   "language": "python",
   "name": "python3"
  },
  "language_info": {
   "codemirror_mode": {
    "name": "ipython",
    "version": 3
   },
   "file_extension": ".py",
   "mimetype": "text/x-python",
   "name": "python",
   "nbconvert_exporter": "python",
   "pygments_lexer": "ipython3",
   "version": "3.10.9"
  }
 },
 "nbformat": 4,
 "nbformat_minor": 5
}

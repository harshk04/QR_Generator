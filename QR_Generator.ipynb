{
 "cells": [
  {
   "cell_type": "code",
   "execution_count": 2,
   "id": "2acfdf16",
   "metadata": {},
   "outputs": [
    {
     "name": "stdout",
     "output_type": "stream",
     "text": [
      "QR Image Saved Successfully !!\n",
      "\n"
     ]
    }
   ],
   "source": [
    "import tkinter as tk\n",
    "from tkinter import *\n",
    "import qrcode\n",
    "import image\n",
    "\n",
    "qr = qrcode.QRCode(\n",
    "    version=12,  # shows security level\n",
    "    box_size=5,\n",
    "    border=5\n",
    ")\n",
    "\n",
    "\n",
    "def qrgenerate():\n",
    "    link = qfield.get()\n",
    "    qr.add_data(link)\n",
    "    qr.make(fit=True)\n",
    "    img = qr.make_image(fill=\"black\", back_color=\"white\")\n",
    "    img.save(\"dderv.png\")\n",
    "    textarea.insert(END, 'IMAGE SAVED SUCCESSFULLY' + '\\n')\n",
    "\n",
    "    qfield.delete(0, END)\n",
    "    dispayimage()\n",
    "\n",
    "def dispayimage():\n",
    "    imo = tk.PhotoImage(file=\"dderv.png\")\n",
    "    # textarea.image_create(1.0, image = imo)\n",
    "    qfd = tk.Label(root, image=imo)\n",
    "    qfd.pack(pady=15, padx=10)\n",
    "\n",
    "\n",
    "\n",
    "root = Tk()\n",
    "\n",
    "root.geometry('500x600+50+50')\n",
    "root.title('QR Code Generator')\n",
    "root.config(bg='green')\n",
    "\n",
    "qfeld = Label(root, text=\"Enter the Link: \")\n",
    "qfeld.pack(pady=15, padx=10)\n",
    "\n",
    "qfield = Entry(root, font=('Helvetica', 16))\n",
    "qfield.pack(pady=15, padx=10, fill=X)\n",
    "\n",
    "btn = Button(root, text='Generate QR', bd='1', cursor=\"cross\",command=qrgenerate)\n",
    "\n",
    "# Set the position of button on the top of window.\n",
    "btn.pack(side='top')\n",
    "\n",
    "centerFrame = Frame(root)\n",
    "centerFrame.pack()\n",
    "\n",
    "# frame = tk.Frame(root, bg = '#45aaf2')\n",
    "# lbl_pic_path = tk.Label(frame, text='Image Path:', padx=25, pady=25, font=( 'verdana', 16))\n",
    "# lbl_show_pic = tk.Label(frame)\n",
    "# entry_pic_path = tk.Entry(frame, font=( 'verdana', 16))\n",
    "# frame.pack()\n",
    "\n",
    "textarea = Text(centerFrame, font=('Helvetica', 16, 'bold'), height=2, wrap='word')\n",
    "textarea.config(background=\"green\", foreground=\"white\")\n",
    "textarea.pack(side=LEFT)\n",
    "\n",
    "root.mainloop()"
   ]
  },
  {
   "cell_type": "code",
   "execution_count": 29,
   "id": "de6a0bdf",
   "metadata": {},
   "outputs": [],
   "source": []
  },
  {
   "cell_type": "code",
   "execution_count": null,
   "id": "e612dad0",
   "metadata": {},
   "outputs": [],
   "source": []
  },
  {
   "cell_type": "code",
   "execution_count": null,
   "id": "2aa661c8",
   "metadata": {},
   "outputs": [],
   "source": []
  }
 ],
 "metadata": {
  "kernelspec": {
   "display_name": "Python 3 (ipykernel)",
   "language": "python",
   "name": "python3"
  },
  "language_info": {
   "codemirror_mode": {
    "name": "ipython",
    "version": 3
   },
   "file_extension": ".py",
   "mimetype": "text/x-python",
   "name": "python",
   "nbconvert_exporter": "python",
   "pygments_lexer": "ipython3",
   "version": "3.10.9"
  }
 },
 "nbformat": 4,
 "nbformat_minor": 5
}
